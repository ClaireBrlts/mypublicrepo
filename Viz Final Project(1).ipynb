{
 "cells": [
  {
   "cell_type": "code",
   "execution_count": 1,
   "id": "e8b78a2e",
   "metadata": {},
   "outputs": [],
   "source": [
    "import dash\n",
    "from dash import dcc\n",
    "from dash import html\n",
    "from dash.dependencies import Input, Output\n",
    "import pandas as pd\n",
    "import plotly.graph_objs as go\n",
    "import plotly.express as px"
   ]
  },
  {
   "cell_type": "code",
   "execution_count": 2,
   "id": "c54a8147",
   "metadata": {},
   "outputs": [],
   "source": [
    "data = pd.read_csv(\"https://cf-courses-data.s3.us.cloud-object-storage.appdomain.cloud/IBMDeveloperSkillsNetwork-DV0101EN-SkillsNetwork/Data%20Files/historical_automobile_sales.csv\")"
   ]
  },
  {
   "cell_type": "code",
   "execution_count": 3,
   "id": "191e380f",
   "metadata": {},
   "outputs": [],
   "source": [
    "# Initialize the Dash app\n",
    "app = dash.Dash(__name__)"
   ]
  },
  {
   "cell_type": "code",
   "execution_count": 4,
   "id": "2d031d91",
   "metadata": {},
   "outputs": [],
   "source": [
    "# Set the title of the dashboard\n",
    "app.title = \"Automobile Statistics Dashboard\""
   ]
  },
  {
   "cell_type": "code",
   "execution_count": 5,
   "id": "f3aeaa78",
   "metadata": {},
   "outputs": [],
   "source": [
    "# Create the dropdown menu options\n",
    "dropdown_options = [\n",
    "{\"label\": \"Yearly Statistics\", \"value\": \"Yearly Statistics\"},\n",
    "{\"label\": \"Recession Period Statistics\", \"value\": \"Recession Period Statistics\"}]"
   ]
  },
  {
   "cell_type": "code",
   "execution_count": 7,
   "id": "5b81f454",
   "metadata": {},
   "outputs": [],
   "source": [
    "# List of years\n",
    "year_list = [i for i in range(1980, 2024, 1)]"
   ]
  },
  {
   "cell_type": "code",
   "execution_count": 8,
   "id": "cd619367",
   "metadata": {},
   "outputs": [],
   "source": [
    "# Create the layout of the app\n",
    "app.layout = html.Div([\n",
    "html.H1(\"Automobile Sales Statistics Dashboard\",style={\"textAlign\": \"center\", \"color\": \"#503D36\", \"font-size\": 24}),  # May include style for title\n",
    "html.Div([html.Label(\"Select Statistics:\"), dcc.Dropdown(id=\"dropdown-statistics\", options=[{\"label\": \"Yearly Statistics\", \"value\": \"Yearly Statistics\"},{\"label\": \"Recession Period Statistics\",\"value\": \"Recession Period Statistics\"}],value=\"Select Statistics\",placeholder=\"Select a report type\")]),\n",
    "html.Div(dcc.Dropdown(id=\"select-year\", options=[{\"label\": i, \"value\": i} for i in year_list], value=\"Select Year\")),\n",
    "html.Div([html.Div(id=\"output-container\", className=\"chart-grid\", style={\"flex\"})])])"
   ]
  },
  {
   "cell_type": "code",
   "execution_count": 12,
   "id": "926ca5ad",
   "metadata": {},
   "outputs": [],
   "source": [
    "@app.callback(Output(component_id=\"select-year\", component_property=\"disabled\"), Input(component_id=\"dropdown-statistics\", component_property=\"value\"))\n",
    "def update_input_container(selected_statistics):\n",
    "    if selected_statistics == \"Yearly Statistics\":\n",
    "        return False\n",
    "    else:\n",
    "        return True"
   ]
  },
  {
   "cell_type": "markdown",
   "id": "e6503c41",
   "metadata": {},
   "source": []
  },
  {
   "cell_type": "code",
   "execution_count": 13,
   "id": "8cde1509",
   "metadata": {},
   "outputs": [],
   "source": [
    "@app.callback(Output(component_id=\"output-container\", component_property=\"children\"),[Input(component_id=\"dropdown-statistics\", component_property=\"value\"),Input(component_id=\"select-year\", component_property=\"value\")])\n",
    "\n",
    "def update_output_container(selected_statistics, input_year):\n",
    "    if selected_statistics == \"Recession Period Statistics\":\n",
    "        recession_data = data[data[\"Recession\"] == 1]\n",
    "        \n",
    "        yearly_rec = recession_data.groupby(\"Year\")[\"Automobile_Sales\"].mean().reset_index()\n",
    "        R_chart1 = dcc.Graph(\n",
    "            figure=px.line(\n",
    "                yearly_rec, \n",
    "                x=\"Year\", \n",
    "                y=\"Automobile_Sales\", \n",
    "                title=\"Average Automobile Sales fluctuation over Recession Period\"))\n",
    "\n",
    "        average_sales = recession_data.groupby(\"Vehicle_Type\")[\"Automobile_Sales\"].mean().reset_index()\n",
    "        R_chart2 = dcc.Graph(\n",
    "            figure=px.bar(\n",
    "                average_sales,\n",
    "                x=\"Vehicle_Type\",\n",
    "                y=\"Automobile_Sales\",\n",
    "                title=\"Average Number of Vehicles sold by Vehicle Type\"))\n",
    "\n",
    "        exp_rec = recession_data.groupby(\"Vehicle_Type\")[\"Advertising_Expenditure\"].sum().reset_index()\n",
    "\n",
    "        R_chart3 = dcc.Graph(\n",
    "            figure=px.pie(\n",
    "                exp_rec,\n",
    "                names=\"Vehicle_Type\",\n",
    "                values=\"Advertising_Expenditure\",\n",
    "                title=\"Total Expenditure Share by Vehicle Type during Recessions\"))\n",
    "\n",
    "        unemp_data = recession_data.groupby([\"Vehicle_Type\", \"unemployment_rate\"])[\"Automobile_Sales\"].mean().reset_index()\n",
    "        R_chart4 = dcc.Graph(\n",
    "            figure=px.bar(\n",
    "                unemp_data,\n",
    "                x=\"unemployment_rate\",\n",
    "                y=\"Automobile_Sales\",\n",
    "                color=\"Vehicle_Type\",\n",
    "                labels={\"unemployment_rate\": \"Unemployment Rate\",\"Automobile_Sales\": \"Average Automobile Sales\"},\n",
    "                title=\"Effect of Unemployment Rate on Sales of various Vehicle Types\"))\n",
    "\n",
    "        return [html.Div(className=\"chart-item\", children=[html.Div(children=R_chart1), html.Div(children=R_chart2)], style={\"display\": \"flex\"}),\n",
    "                html.Div(className=\"chart-item\", children=[html.Div(children=R_chart3), html.Div(children=R_chart4)], style={\"display\": \"flex\"})]\n",
    "\n",
    "    elif input_year and selected_statistics == \"Yearly Statistics\":\n",
    "        yearly_data = data[data[\"Year\"] == input_year]\n",
    "\n",
    "        yas = data.groupby(\"Year\")[\"Automobile_Sales\"].mean().reset_index()\n",
    "        Y_chart1 = dcc.Graph(\n",
    "            figure=px.line(\n",
    "                yas, x=\"Year\", y=\"Automobile_Sales\", title=\"Yearly Automobile sales\"))\n",
    "\n",
    "        Y_chart2 = dcc.Graph(\n",
    "            figure=px.line(\n",
    "                yearly_data,\n",
    "                x=\"Month\",\n",
    "                y=\"Automobile_Sales\",\n",
    "                title=\"Total Monthly Automobile Sales\"))\n",
    "\n",
    "        avr_vdata = yearly_data.groupby(\"Vehicle_Type\")[\"Automobile_Sales\"].mean().reset_index()\n",
    "        Y_chart3 = dcc.Graph(\n",
    "            figure=px.bar(\n",
    "                avr_vdata,\n",
    "                x=\"Vehicle_Type\",\n",
    "                y=\"Automobile_Sales\",\n",
    "                title=\"Average Vehicles Sold by Vehicle Type in the year {}\".format(input_year)))\n",
    "\n",
    "        exp_data = yearly_data.groupby(\"Vehicle_Type\")[\"Advertising_Expenditure\"].sum().reset_index()\n",
    "        Y_chart4 = dcc.Graph(\n",
    "            figure=px.pie(\n",
    "                exp_data,\n",
    "                values=\"Advertising_Expenditure\",\n",
    "                names=\"Vehicle_Type\",\n",
    "                title=\"Total Advertisement Expenditure for each Vehicle\"))\n",
    "\n",
    "        return [html.Div(className=\"chart-item\", children=[html.Div(Y_chart1), html.Div(Y_chart2)], style={\"display\": \"flex\"}),\n",
    "                html.Div(className=\"chart-item\", children=[html.Div(Y_chart3), html.Div(Y_chart4)], style={\"display\": \"flex\"})]\n",
    "\n",
    "    else:\n",
    "\n",
    "        return None\n",
    "\n"
   ]
  },
  {
   "cell_type": "code",
   "execution_count": 14,
   "id": "855d647d",
   "metadata": {},
   "outputs": [
    {
     "ename": "OSError",
     "evalue": "Address 'http://127.0.0.1:8050' already in use.\n    Try passing a different port to run_server.",
     "output_type": "error",
     "traceback": [
      "\u001b[1;31m---------------------------------------------------------------------------\u001b[0m",
      "\u001b[1;31mOSError\u001b[0m                                   Traceback (most recent call last)",
      "Cell \u001b[1;32mIn[14], line 2\u001b[0m\n\u001b[0;32m      1\u001b[0m \u001b[38;5;28;01mif\u001b[39;00m \u001b[38;5;18m__name__\u001b[39m \u001b[38;5;241m==\u001b[39m \u001b[38;5;124m\"\u001b[39m\u001b[38;5;124m__main__\u001b[39m\u001b[38;5;124m\"\u001b[39m:\n\u001b[1;32m----> 2\u001b[0m     app\u001b[38;5;241m.\u001b[39mrun_server(debug\u001b[38;5;241m=\u001b[39m\u001b[38;5;28;01mTrue\u001b[39;00m)\n",
      "File \u001b[1;32m~\\anaconda3\\envs\\FirstEnvironment\\Lib\\site-packages\\dash\\dash.py:2175\u001b[0m, in \u001b[0;36mDash.run_server\u001b[1;34m(self, *args, **kwargs)\u001b[0m\n\u001b[0;32m   2169\u001b[0m \u001b[38;5;28;01mdef\u001b[39;00m \u001b[38;5;21mrun_server\u001b[39m(\u001b[38;5;28mself\u001b[39m, \u001b[38;5;241m*\u001b[39margs, \u001b[38;5;241m*\u001b[39m\u001b[38;5;241m*\u001b[39mkwargs):\n\u001b[0;32m   2170\u001b[0m \u001b[38;5;250m    \u001b[39m\u001b[38;5;124;03m\"\"\"`run_server` is a deprecated alias of `run` and may be removed in a\u001b[39;00m\n\u001b[0;32m   2171\u001b[0m \u001b[38;5;124;03m    future version. We recommend using `app.run` instead.\u001b[39;00m\n\u001b[0;32m   2172\u001b[0m \n\u001b[0;32m   2173\u001b[0m \u001b[38;5;124;03m    See `app.run` for usage information.\u001b[39;00m\n\u001b[0;32m   2174\u001b[0m \u001b[38;5;124;03m    \"\"\"\u001b[39;00m\n\u001b[1;32m-> 2175\u001b[0m     \u001b[38;5;28mself\u001b[39m\u001b[38;5;241m.\u001b[39mrun(\u001b[38;5;241m*\u001b[39margs, \u001b[38;5;241m*\u001b[39m\u001b[38;5;241m*\u001b[39mkwargs)\n",
      "File \u001b[1;32m~\\anaconda3\\envs\\FirstEnvironment\\Lib\\site-packages\\dash\\dash.py:2066\u001b[0m, in \u001b[0;36mDash.run\u001b[1;34m(self, host, port, proxy, debug, jupyter_mode, jupyter_width, jupyter_height, jupyter_server_url, dev_tools_ui, dev_tools_props_check, dev_tools_serve_dev_bundles, dev_tools_hot_reload, dev_tools_hot_reload_interval, dev_tools_hot_reload_watch_interval, dev_tools_hot_reload_max_retry, dev_tools_silence_routes_logging, dev_tools_prune_errors, **flask_run_options)\u001b[0m\n\u001b[0;32m   2063\u001b[0m             extra_files\u001b[38;5;241m.\u001b[39mappend(path)\n\u001b[0;32m   2065\u001b[0m \u001b[38;5;28;01mif\u001b[39;00m jupyter_dash\u001b[38;5;241m.\u001b[39mactive:\n\u001b[1;32m-> 2066\u001b[0m     jupyter_dash\u001b[38;5;241m.\u001b[39mrun_app(\n\u001b[0;32m   2067\u001b[0m         \u001b[38;5;28mself\u001b[39m,\n\u001b[0;32m   2068\u001b[0m         mode\u001b[38;5;241m=\u001b[39mjupyter_mode,\n\u001b[0;32m   2069\u001b[0m         width\u001b[38;5;241m=\u001b[39mjupyter_width,\n\u001b[0;32m   2070\u001b[0m         height\u001b[38;5;241m=\u001b[39mjupyter_height,\n\u001b[0;32m   2071\u001b[0m         host\u001b[38;5;241m=\u001b[39mhost,\n\u001b[0;32m   2072\u001b[0m         port\u001b[38;5;241m=\u001b[39mport,\n\u001b[0;32m   2073\u001b[0m         server_url\u001b[38;5;241m=\u001b[39mjupyter_server_url,\n\u001b[0;32m   2074\u001b[0m     )\n\u001b[0;32m   2075\u001b[0m \u001b[38;5;28;01melse\u001b[39;00m:\n\u001b[0;32m   2076\u001b[0m     \u001b[38;5;28mself\u001b[39m\u001b[38;5;241m.\u001b[39mserver\u001b[38;5;241m.\u001b[39mrun(host\u001b[38;5;241m=\u001b[39mhost, port\u001b[38;5;241m=\u001b[39mport, debug\u001b[38;5;241m=\u001b[39mdebug, \u001b[38;5;241m*\u001b[39m\u001b[38;5;241m*\u001b[39mflask_run_options)\n",
      "File \u001b[1;32m~\\anaconda3\\envs\\FirstEnvironment\\Lib\\site-packages\\dash\\_jupyter.py:401\u001b[0m, in \u001b[0;36mJupyterDash.run_app\u001b[1;34m(self, app, mode, width, height, host, port, server_url)\u001b[0m\n\u001b[0;32m    399\u001b[0m     display(HTML(msg))\n\u001b[0;32m    400\u001b[0m \u001b[38;5;28;01melse\u001b[39;00m:\n\u001b[1;32m--> 401\u001b[0m     \u001b[38;5;28;01mraise\u001b[39;00m final_error\n",
      "File \u001b[1;32m~\\anaconda3\\envs\\FirstEnvironment\\Lib\\site-packages\\dash\\_jupyter.py:388\u001b[0m, in \u001b[0;36mJupyterDash.run_app\u001b[1;34m(self, app, mode, width, height, host, port, server_url)\u001b[0m\n\u001b[0;32m    385\u001b[0m         \u001b[38;5;28;01mraise\u001b[39;00m err\n\u001b[0;32m    387\u001b[0m \u001b[38;5;28;01mtry\u001b[39;00m:\n\u001b[1;32m--> 388\u001b[0m     wait_for_app()\n\u001b[0;32m    390\u001b[0m     \u001b[38;5;28;01mif\u001b[39;00m \u001b[38;5;28mself\u001b[39m\u001b[38;5;241m.\u001b[39min_colab:\n\u001b[0;32m    391\u001b[0m         JupyterDash\u001b[38;5;241m.\u001b[39m_display_in_colab(dashboard_url, port, mode, width, height)\n",
      "File \u001b[1;32m~\\anaconda3\\envs\\FirstEnvironment\\Lib\\site-packages\\retrying.py:56\u001b[0m, in \u001b[0;36mretry.<locals>.wrap.<locals>.wrapped_f\u001b[1;34m(*args, **kw)\u001b[0m\n\u001b[0;32m     54\u001b[0m \u001b[38;5;129m@six\u001b[39m\u001b[38;5;241m.\u001b[39mwraps(f)\n\u001b[0;32m     55\u001b[0m \u001b[38;5;28;01mdef\u001b[39;00m \u001b[38;5;21mwrapped_f\u001b[39m(\u001b[38;5;241m*\u001b[39margs, \u001b[38;5;241m*\u001b[39m\u001b[38;5;241m*\u001b[39mkw):\n\u001b[1;32m---> 56\u001b[0m     \u001b[38;5;28;01mreturn\u001b[39;00m Retrying(\u001b[38;5;241m*\u001b[39mdargs, \u001b[38;5;241m*\u001b[39m\u001b[38;5;241m*\u001b[39mdkw)\u001b[38;5;241m.\u001b[39mcall(f, \u001b[38;5;241m*\u001b[39margs, \u001b[38;5;241m*\u001b[39m\u001b[38;5;241m*\u001b[39mkw)\n",
      "File \u001b[1;32m~\\anaconda3\\envs\\FirstEnvironment\\Lib\\site-packages\\retrying.py:266\u001b[0m, in \u001b[0;36mRetrying.call\u001b[1;34m(self, fn, *args, **kwargs)\u001b[0m\n\u001b[0;32m    263\u001b[0m \u001b[38;5;28;01mif\u001b[39;00m \u001b[38;5;28mself\u001b[39m\u001b[38;5;241m.\u001b[39mstop(attempt_number, delay_since_first_attempt_ms):\n\u001b[0;32m    264\u001b[0m     \u001b[38;5;28;01mif\u001b[39;00m \u001b[38;5;129;01mnot\u001b[39;00m \u001b[38;5;28mself\u001b[39m\u001b[38;5;241m.\u001b[39m_wrap_exception \u001b[38;5;129;01mand\u001b[39;00m attempt\u001b[38;5;241m.\u001b[39mhas_exception:\n\u001b[0;32m    265\u001b[0m         \u001b[38;5;66;03m# get() on an attempt with an exception should cause it to be raised, but raise just in case\u001b[39;00m\n\u001b[1;32m--> 266\u001b[0m         \u001b[38;5;28;01mraise\u001b[39;00m attempt\u001b[38;5;241m.\u001b[39mget()\n\u001b[0;32m    267\u001b[0m     \u001b[38;5;28;01melse\u001b[39;00m:\n\u001b[0;32m    268\u001b[0m         \u001b[38;5;28;01mraise\u001b[39;00m RetryError(attempt)\n",
      "File \u001b[1;32m~\\anaconda3\\envs\\FirstEnvironment\\Lib\\site-packages\\retrying.py:301\u001b[0m, in \u001b[0;36mAttempt.get\u001b[1;34m(self, wrap_exception)\u001b[0m\n\u001b[0;32m    299\u001b[0m         \u001b[38;5;28;01mraise\u001b[39;00m RetryError(\u001b[38;5;28mself\u001b[39m)\n\u001b[0;32m    300\u001b[0m     \u001b[38;5;28;01melse\u001b[39;00m:\n\u001b[1;32m--> 301\u001b[0m         six\u001b[38;5;241m.\u001b[39mreraise(\u001b[38;5;28mself\u001b[39m\u001b[38;5;241m.\u001b[39mvalue[\u001b[38;5;241m0\u001b[39m], \u001b[38;5;28mself\u001b[39m\u001b[38;5;241m.\u001b[39mvalue[\u001b[38;5;241m1\u001b[39m], \u001b[38;5;28mself\u001b[39m\u001b[38;5;241m.\u001b[39mvalue[\u001b[38;5;241m2\u001b[39m])\n\u001b[0;32m    302\u001b[0m \u001b[38;5;28;01melse\u001b[39;00m:\n\u001b[0;32m    303\u001b[0m     \u001b[38;5;28;01mreturn\u001b[39;00m \u001b[38;5;28mself\u001b[39m\u001b[38;5;241m.\u001b[39mvalue\n",
      "File \u001b[1;32m~\\anaconda3\\envs\\FirstEnvironment\\Lib\\site-packages\\six.py:719\u001b[0m, in \u001b[0;36mreraise\u001b[1;34m(tp, value, tb)\u001b[0m\n\u001b[0;32m    717\u001b[0m     \u001b[38;5;28;01mif\u001b[39;00m value\u001b[38;5;241m.\u001b[39m__traceback__ \u001b[38;5;129;01mis\u001b[39;00m \u001b[38;5;129;01mnot\u001b[39;00m tb:\n\u001b[0;32m    718\u001b[0m         \u001b[38;5;28;01mraise\u001b[39;00m value\u001b[38;5;241m.\u001b[39mwith_traceback(tb)\n\u001b[1;32m--> 719\u001b[0m     \u001b[38;5;28;01mraise\u001b[39;00m value\n\u001b[0;32m    720\u001b[0m \u001b[38;5;28;01mfinally\u001b[39;00m:\n\u001b[0;32m    721\u001b[0m     value \u001b[38;5;241m=\u001b[39m \u001b[38;5;28;01mNone\u001b[39;00m\n",
      "File \u001b[1;32m~\\anaconda3\\envs\\FirstEnvironment\\Lib\\site-packages\\retrying.py:251\u001b[0m, in \u001b[0;36mRetrying.call\u001b[1;34m(self, fn, *args, **kwargs)\u001b[0m\n\u001b[0;32m    248\u001b[0m     \u001b[38;5;28mself\u001b[39m\u001b[38;5;241m.\u001b[39m_before_attempts(attempt_number)\n\u001b[0;32m    250\u001b[0m \u001b[38;5;28;01mtry\u001b[39;00m:\n\u001b[1;32m--> 251\u001b[0m     attempt \u001b[38;5;241m=\u001b[39m Attempt(fn(\u001b[38;5;241m*\u001b[39margs, \u001b[38;5;241m*\u001b[39m\u001b[38;5;241m*\u001b[39mkwargs), attempt_number, \u001b[38;5;28;01mFalse\u001b[39;00m)\n\u001b[0;32m    252\u001b[0m \u001b[38;5;28;01mexcept\u001b[39;00m:\n\u001b[0;32m    253\u001b[0m     tb \u001b[38;5;241m=\u001b[39m sys\u001b[38;5;241m.\u001b[39mexc_info()\n",
      "File \u001b[1;32m~\\anaconda3\\envs\\FirstEnvironment\\Lib\\site-packages\\dash\\_jupyter.py:379\u001b[0m, in \u001b[0;36mJupyterDash.run_app.<locals>.wait_for_app\u001b[1;34m()\u001b[0m\n\u001b[0;32m    377\u001b[0m     \u001b[38;5;28;01mif\u001b[39;00m res \u001b[38;5;241m!=\u001b[39m \u001b[38;5;124m\"\u001b[39m\u001b[38;5;124mAlive\u001b[39m\u001b[38;5;124m\"\u001b[39m:\n\u001b[0;32m    378\u001b[0m         url \u001b[38;5;241m=\u001b[39m \u001b[38;5;124mf\u001b[39m\u001b[38;5;124m\"\u001b[39m\u001b[38;5;124mhttp://\u001b[39m\u001b[38;5;132;01m{\u001b[39;00mhost\u001b[38;5;132;01m}\u001b[39;00m\u001b[38;5;124m:\u001b[39m\u001b[38;5;132;01m{\u001b[39;00mport\u001b[38;5;132;01m}\u001b[39;00m\u001b[38;5;124m\"\u001b[39m\n\u001b[1;32m--> 379\u001b[0m         \u001b[38;5;28;01mraise\u001b[39;00m \u001b[38;5;167;01mOSError\u001b[39;00m(\n\u001b[0;32m    380\u001b[0m             \u001b[38;5;124mf\u001b[39m\u001b[38;5;124m\"\u001b[39m\u001b[38;5;124mAddress \u001b[39m\u001b[38;5;124m'\u001b[39m\u001b[38;5;132;01m{\u001b[39;00murl\u001b[38;5;132;01m}\u001b[39;00m\u001b[38;5;124m'\u001b[39m\u001b[38;5;124m already in use.\u001b[39m\u001b[38;5;130;01m\\n\u001b[39;00m\u001b[38;5;124m\"\u001b[39m\n\u001b[0;32m    381\u001b[0m             \u001b[38;5;124m\"\u001b[39m\u001b[38;5;124m    Try passing a different port to run_server.\u001b[39m\u001b[38;5;124m\"\u001b[39m\n\u001b[0;32m    382\u001b[0m         )\n\u001b[0;32m    383\u001b[0m \u001b[38;5;28;01mexcept\u001b[39;00m requests\u001b[38;5;241m.\u001b[39mConnectionError \u001b[38;5;28;01mas\u001b[39;00m err:\n\u001b[0;32m    384\u001b[0m     _get_error()\n",
      "\u001b[1;31mOSError\u001b[0m: Address 'http://127.0.0.1:8050' already in use.\n    Try passing a different port to run_server."
     ]
    }
   ],
   "source": [
    "if __name__ == \"__main__\":\n",
    "    app.run_server(debug=True)"
   ]
  },
  {
   "cell_type": "code",
   "execution_count": null,
   "id": "c64d2687",
   "metadata": {},
   "outputs": [],
   "source": []
  }
 ],
 "metadata": {
  "kernelspec": {
   "display_name": "Python 3 (ipykernel)",
   "language": "python",
   "name": "python3"
  },
  "language_info": {
   "codemirror_mode": {
    "name": "ipython",
    "version": 3
   },
   "file_extension": ".py",
   "mimetype": "text/x-python",
   "name": "python",
   "nbconvert_exporter": "python",
   "pygments_lexer": "ipython3",
   "version": "3.11.4"
  }
 },
 "nbformat": 4,
 "nbformat_minor": 5
}
